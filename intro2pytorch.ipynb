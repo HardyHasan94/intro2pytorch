{
  "nbformat": 4,
  "nbformat_minor": 0,
  "metadata": {
    "@webio": {
      "lastCommId": null,
      "lastKernelId": null
    },
    "celltoolbar": "Tags",
    "colab": {
      "name": "Kopia av Introduction to PyTorch.ipynb",
      "provenance": [],
      "collapsed_sections": []
    },
    "kernelspec": {
      "display_name": "lab-sml",
      "language": "python",
      "name": "lab-sml"
    },
    "language_info": {
      "codemirror_mode": {
        "name": "ipython",
        "version": 3
      },
      "file_extension": ".py",
      "mimetype": "text/x-python",
      "name": "python",
      "nbconvert_exporter": "python",
      "pygments_lexer": "ipython3",
      "version": "3.9.7"
    }
  },
  "cells": [
    {
      "cell_type": "code",
      "metadata": {
        "id": "kaxOy2isb5xs",
        "tags": []
      },
      "source": [
        "%matplotlib inline"
      ],
      "execution_count": null,
      "outputs": []
    },
    {
      "cell_type": "markdown",
      "metadata": {
        "id": "bKOoRFl3bMwG",
        "tags": []
      },
      "source": [
        "# Basics of PyTorch\n",
        "\n",
        "We start by running some basic PyTorch commands to get acquainted with the library. This section is based on the [PyTorch example](https://pytorch.org/tutorials/beginner/pytorch_with_examples.html) in the official tutorials.\n",
        "\n",
        "Numpy is a generic Python library for scientific computing and allows to work with $n$-dimensional arrays."
      ]
    },
    {
      "cell_type": "code",
      "metadata": {
        "id": "5Qv1SDicbMwI",
        "tags": [],
        "colab": {
          "base_uri": "https://localhost:8080/"
        },
        "outputId": "11ed896c-2b89-4a86-f0c4-4f628258500c"
      },
      "source": [
        "# load numpy\n",
        "import numpy as np\n",
        "\n",
        "# create standard normally distributed vectors x and y\n",
        "x = np.random.randn(20)\n",
        "y = np.random.randn(20)\n",
        "\n",
        "# compute the standard inner product of x and y\n",
        "np.dot(x, y)"
      ],
      "execution_count": null,
      "outputs": [
        {
          "output_type": "execute_result",
          "data": {
            "text/plain": [
              "-0.8762590416613247"
            ]
          },
          "metadata": {},
          "execution_count": 2
        }
      ]
    },
    {
      "cell_type": "markdown",
      "metadata": {
        "id": "2Z5bRRG6bMwP",
        "tags": []
      },
      "source": [
        "In principle, one can implement even neural network models using numpy. However, numpy has two severe limitations. When working with deep neural networks, often one wants to speed up the computations by running them on GPUs. Unfortunately, numpy does not support GPUs. Moreover, training of differentiable models such as neural networks requires to keep track of gradients. This functionality is not provided by numpy.\n",
        "\n",
        "The PyTorch library tries to solve both issues."
      ]
    },
    {
      "cell_type": "code",
      "metadata": {
        "tags": [],
        "id": "KXySdeQL-lts"
      },
      "source": [
        "# load PyTorch\n",
        "import torch"
      ],
      "execution_count": null,
      "outputs": []
    },
    {
      "cell_type": "markdown",
      "metadata": {
        "tags": [],
        "id": "RR-XSGB1-ltt"
      },
      "source": [
        "You can check that you use a recent version of PyTorch (as of September 2021, the most recent version is 1.9.0):"
      ]
    },
    {
      "cell_type": "code",
      "metadata": {
        "tags": [],
        "id": "7jNsOfEc-ltt",
        "colab": {
          "base_uri": "https://localhost:8080/",
          "height": 35
        },
        "outputId": "d98f917a-dce6-4365-c7f8-3b34f00a56ad"
      },
      "source": [
        "torch.__version__"
      ],
      "execution_count": null,
      "outputs": [
        {
          "output_type": "execute_result",
          "data": {
            "application/vnd.google.colaboratory.intrinsic+json": {
              "type": "string"
            },
            "text/plain": [
              "'1.10.0+cu111'"
            ]
          },
          "metadata": {},
          "execution_count": 4
        }
      ]
    },
    {
      "cell_type": "markdown",
      "metadata": {
        "tags": [],
        "id": "DcrOQ-aT-ltu"
      },
      "source": [
        "Similar to numpy, PyTorch allows us to work with $n$-dimensional arrays, which are called *tensors*."
      ]
    },
    {
      "cell_type": "code",
      "metadata": {
        "id": "dTsIolBDbMwQ",
        "tags": [],
        "colab": {
          "base_uri": "https://localhost:8080/"
        },
        "outputId": "5831fd56-6ee0-4d6e-8f93-81a0188703f9"
      },
      "source": [
        "# create standard normally distributed vectors x and y\n",
        "x = torch.randn(20)\n",
        "y = torch.randn(20)\n",
        "print('type: ',type(x))\n",
        "# compute the standard inner product of x and y\n",
        "torch.dot(x, y)"
      ],
      "execution_count": null,
      "outputs": [
        {
          "output_type": "stream",
          "name": "stdout",
          "text": [
            "type:  <class 'torch.Tensor'>\n"
          ]
        },
        {
          "output_type": "execute_result",
          "data": {
            "text/plain": [
              "tensor(2.6442)"
            ]
          },
          "metadata": {},
          "execution_count": 6
        }
      ]
    },
    {
      "cell_type": "markdown",
      "metadata": {
        "id": "N8zXqQ-lbMwV",
        "tags": []
      },
      "source": [
        "We can easily convert numpy arrays to PyTorch tensors:"
      ]
    },
    {
      "cell_type": "code",
      "metadata": {
        "id": "kc952VBIbMwX",
        "tags": [],
        "colab": {
          "base_uri": "https://localhost:8080/"
        },
        "outputId": "b5569f08-3cfd-4382-fb7f-4ce2a29441b6"
      },
      "source": [
        "a = np.random.randn(20)\n",
        "torch.from_numpy(a)"
      ],
      "execution_count": null,
      "outputs": [
        {
          "output_type": "execute_result",
          "data": {
            "text/plain": [
              "tensor([-0.4116, -0.0914,  0.8508,  2.4618,  0.9125,  1.8753, -0.9612, -0.2691,\n",
              "         1.0184,  0.6810,  1.2177, -0.2411,  0.4905,  0.6235,  0.2251,  0.1619,\n",
              "        -0.3276,  0.1009, -2.0143,  1.1854], dtype=torch.float64)"
            ]
          },
          "metadata": {},
          "execution_count": 7
        }
      ]
    },
    {
      "cell_type": "markdown",
      "metadata": {
        "id": "GqQ9Fe7ct1sr",
        "tags": []
      },
      "source": [
        "By default numpy uses 64 bit floating point numbers, which are preserved by the conversion to PyTorch tensors. However, floating point numbers in PyTorch are encoded with 32 bits by default. The standard floating point representation in PyTorch can be obtained by running"
      ]
    },
    {
      "cell_type": "code",
      "metadata": {
        "id": "VzZ-SjfvuHxn",
        "tags": [],
        "colab": {
          "base_uri": "https://localhost:8080/"
        },
        "outputId": "5bf42d84-8386-4bac-b08c-8d27f7ceb674"
      },
      "source": [
        "torch.from_numpy(a).float().dtype"
      ],
      "execution_count": null,
      "outputs": [
        {
          "output_type": "execute_result",
          "data": {
            "text/plain": [
              "torch.float32"
            ]
          },
          "metadata": {},
          "execution_count": 10
        }
      ]
    },
    {
      "cell_type": "markdown",
      "metadata": {
        "id": "Ol8qvEV5bMwb",
        "tags": []
      },
      "source": [
        "Similarly, PyTorch tensors can be converted to numpy arrays. Note that in this case an array with 32 bit floating point numbers is returned:"
      ]
    },
    {
      "cell_type": "code",
      "metadata": {
        "id": "3gS5yeKLbMwd",
        "tags": [],
        "colab": {
          "base_uri": "https://localhost:8080/"
        },
        "outputId": "dc0b2394-2622-4802-b11b-08f97d0d13e6"
      },
      "source": [
        "b = torch.randn(20)\n",
        "b.numpy()"
      ],
      "execution_count": null,
      "outputs": [
        {
          "output_type": "execute_result",
          "data": {
            "text/plain": [
              "array([ 2.0534027 , -1.0613723 ,  0.37205324, -0.30783364, -1.0284826 ,\n",
              "        0.68715   ,  0.4271446 ,  1.5943714 , -0.6033559 ,  1.0220575 ,\n",
              "       -0.95195866, -0.6278987 , -1.8998207 ,  0.5226218 , -0.15795785,\n",
              "       -0.8435232 ,  0.53603464, -0.7340519 ,  1.5436608 , -0.6305594 ],\n",
              "      dtype=float32)"
            ]
          },
          "metadata": {},
          "execution_count": 14
        }
      ]
    },
    {
      "cell_type": "markdown",
      "metadata": {
        "id": "CQDiZMgobMwj",
        "tags": []
      },
      "source": [
        "An advantage of PyTorch over numpy is that we can utilize GPUs by moving our data and models to the GPU. Note that the following example is only executed if you have access to a GPU."
      ]
    },
    {
      "cell_type": "code",
      "metadata": {
        "id": "MptuL0OdbMwk",
        "tags": []
      },
      "source": [
        "if torch.cuda.is_available():\n",
        "    x = x.cuda()\n",
        "    y = y.cuda()\n",
        "    print(torch.dot(x, y))"
      ],
      "execution_count": null,
      "outputs": []
    },
    {
      "cell_type": "markdown",
      "metadata": {
        "id": "wfYh85bPbMwo",
        "tags": []
      },
      "source": [
        "In the same way, data and models can be moved back to the CPU."
      ]
    },
    {
      "cell_type": "code",
      "metadata": {
        "id": "4igwvkDIbMwq",
        "tags": []
      },
      "source": [
        "x = x.cpu()\n",
        "y = y.cpu()"
      ],
      "execution_count": null,
      "outputs": []
    },
    {
      "cell_type": "markdown",
      "metadata": {
        "id": "0vl6ZqrrbMwu",
        "tags": []
      },
      "source": [
        "If we do not want to check `torch.cuda.is_available()` repeatedly, we can also define a device on which we would like to perform our computations and move tensors to this device."
      ]
    },
    {
      "cell_type": "code",
      "metadata": {
        "id": "9IhmlX4HbMwv",
        "tags": []
      },
      "source": [
        "device = torch.device(\"cuda:0\" if torch.cuda.is_available() else \"cpu\")\n",
        "\n",
        "x = x.to(device)\n",
        "y = y.to(device)"
      ],
      "execution_count": null,
      "outputs": []
    },
    {
      "cell_type": "markdown",
      "metadata": {
        "id": "IL2WxVqObMw0",
        "tags": []
      },
      "source": [
        "As mentioned above, often differentiable models are trained by gradient descent. To perform gradient descent, we have to know the gradient of the objective function with respect to the model parameters. In neural networks, these gradients can be computed efficiently by using the [backpropagation algorithm](https://en.wikipedia.org/wiki/Backpropagation).\n",
        "\n",
        "During the forward pass in our model, PyTorch defines a *computational graph*, whose nodes are PyTorch tensors and whose edges are the functions mapping one input tensor to another output tensor. By backpropagating this graph, we obtain the desired gradients. \n",
        "\n",
        "More concretely, if `x` is a tensor with attribute `x.requires_grad = True` then `x.grad` will be another tensor holding the gradient of `x` with respect to some scalar value."
      ]
    },
    {
      "cell_type": "code",
      "metadata": {
        "id": "NGtyB-0FbMw2",
        "tags": [],
        "colab": {
          "base_uri": "https://localhost:8080/"
        },
        "outputId": "c3226970-adcc-4bd4-edcd-92423ee483c9"
      },
      "source": [
        "# state that we want to obtain the gradients of x\n",
        "x.requires_grad = True\n",
        "\n",
        "# run the forward pass and build the computational graph\n",
        "z = torch.sum(x - y)\n",
        "print(f\"Output of the forward pass: {z}\")\n",
        "\n",
        "# backpropagate the graph\n",
        "z.backward()\n",
        "\n",
        "print(f\"Gradient information of x: {x.grad}\")\n",
        "print(f\"Gradient information of y: {y.grad}\")"
      ],
      "execution_count": null,
      "outputs": [
        {
          "output_type": "stream",
          "name": "stdout",
          "text": [
            "Output of the forward pass: 1.623457908630371\n",
            "Gradient information of x: tensor([1., 1., 1., 1., 1., 1., 1., 1., 1., 1., 1., 1., 1., 1., 1., 1., 1., 1.,\n",
            "        1., 1.])\n",
            "Gradient information of y: None\n"
          ]
        }
      ]
    },
    {
      "cell_type": "markdown",
      "metadata": {
        "id": "pIt_w1AMvHOx",
        "tags": []
      },
      "source": [
        "By default, if we repeat our computations and backpropagate again, the gradients are accumulated."
      ]
    },
    {
      "cell_type": "code",
      "metadata": {
        "id": "c3cmFXm9vimy",
        "tags": [],
        "colab": {
          "base_uri": "https://localhost:8080/"
        },
        "outputId": "13fb362c-be48-4a21-9777-193c4bdcba5f"
      },
      "source": [
        "# run the forward pass and build the computational graph\n",
        "z = torch.sum(x - y)\n",
        "print(f\"Output of the forward pass: {z}\")\n",
        "\n",
        "# backpropagate the graph\n",
        "z.backward()\n",
        "\n",
        "print(f\"Gradient information of x: {x.grad}\")\n",
        "print(f\"Gradient information of y: {y.grad}\")"
      ],
      "execution_count": null,
      "outputs": [
        {
          "output_type": "stream",
          "name": "stdout",
          "text": [
            "Output of the forward pass: 1.623457908630371\n",
            "Gradient information of x: tensor([2., 2., 2., 2., 2., 2., 2., 2., 2., 2., 2., 2., 2., 2., 2., 2., 2., 2.,\n",
            "        2., 2.])\n",
            "Gradient information of y: None\n"
          ]
        }
      ]
    },
    {
      "cell_type": "markdown",
      "metadata": {
        "id": "0-B_Aa4QvofM",
        "tags": []
      },
      "source": [
        "To override the gradients, we have to set them to zero before running the forward pass."
      ]
    },
    {
      "cell_type": "code",
      "metadata": {
        "id": "axPworlwvoI_",
        "tags": [],
        "colab": {
          "base_uri": "https://localhost:8080/"
        },
        "outputId": "7b391592-821e-447a-9f91-34437ca3680d"
      },
      "source": [
        "# set the gradient of x to zero\n",
        "x.grad.zero_()\n",
        "\n",
        "# run the forward pass and build the computational graph\n",
        "z = torch.sum(x - y)\n",
        "print(f\"Output of the forward pass: {z}\")\n",
        "\n",
        "# backpropagate the graph\n",
        "z.backward()\n",
        "\n",
        "print(f\"Gradient information of x: {x.grad}\")\n",
        "print(f\"Gradient information of y: {y.grad}\")"
      ],
      "execution_count": null,
      "outputs": [
        {
          "output_type": "stream",
          "name": "stdout",
          "text": [
            "Output of the forward pass: 1.623457908630371\n",
            "Gradient information of x: tensor([1., 1., 1., 1., 1., 1., 1., 1., 1., 1., 1., 1., 1., 1., 1., 1., 1., 1.,\n",
            "        1., 1.])\n",
            "Gradient information of y: None\n"
          ]
        }
      ]
    },
    {
      "cell_type": "markdown",
      "metadata": {
        "id": "7TxyaB_NbMw6",
        "tags": []
      },
      "source": [
        "If we want perform operations that should not be tracked by PyTorch, we can wrap them inside a `torch.no_grad()` clause."
      ]
    },
    {
      "cell_type": "code",
      "metadata": {
        "id": "KTL67owpbMw7",
        "scrolled": true,
        "tags": []
      },
      "source": [
        "with torch.no_grad():\n",
        "    print(torch.sum(x - y))"
      ],
      "execution_count": null,
      "outputs": []
    },
    {
      "cell_type": "markdown",
      "metadata": {
        "tags": [],
        "id": "WlRx3jMp-lt3"
      },
      "source": [
        "With recent PyTorch versions an error is thrown if we try to convert a PyTorch tensor with gradient information to a numpy array:"
      ]
    },
    {
      "cell_type": "code",
      "metadata": {
        "tags": [],
        "id": "AivTpWAv-lt3",
        "colab": {
          "base_uri": "https://localhost:8080/",
          "height": 164
        },
        "outputId": "e0e291fe-56ce-483e-f9b3-37011272ecde"
      },
      "source": [
        "x.numpy()"
      ],
      "execution_count": null,
      "outputs": [
        {
          "output_type": "error",
          "ename": "RuntimeError",
          "evalue": "ignored",
          "traceback": [
            "\u001b[0;31m---------------------------------------------------------------------------\u001b[0m",
            "\u001b[0;31mRuntimeError\u001b[0m                              Traceback (most recent call last)",
            "\u001b[0;32m<ipython-input-20-2527552080a3>\u001b[0m in \u001b[0;36m<module>\u001b[0;34m()\u001b[0m\n\u001b[0;32m----> 1\u001b[0;31m \u001b[0mx\u001b[0m\u001b[0;34m.\u001b[0m\u001b[0mnumpy\u001b[0m\u001b[0;34m(\u001b[0m\u001b[0;34m)\u001b[0m\u001b[0;34m\u001b[0m\u001b[0;34m\u001b[0m\u001b[0m\n\u001b[0m",
            "\u001b[0;31mRuntimeError\u001b[0m: Can't call numpy() on Tensor that requires grad. Use tensor.detach().numpy() instead."
          ]
        }
      ]
    },
    {
      "cell_type": "markdown",
      "metadata": {
        "tags": [],
        "id": "4k1h1z8y-lt4"
      },
      "source": [
        "As suggested by the error message, we first have to remove the gradient information with [`detach`](https://pytorch.org/docs/stable/generated/torch.Tensor.detach.html) (we \"detach\" the tensor from the computational graph):"
      ]
    },
    {
      "cell_type": "code",
      "metadata": {
        "tags": [],
        "id": "1V3qeFR7-lt4",
        "colab": {
          "base_uri": "https://localhost:8080/"
        },
        "outputId": "20b18daf-f700-4055-bf75-7f23f67508be"
      },
      "source": [
        "x.detach().numpy()"
      ],
      "execution_count": null,
      "outputs": [
        {
          "output_type": "execute_result",
          "data": {
            "text/plain": [
              "array([ 0.1373719 , -0.66398174, -0.86794895, -1.3437511 , -1.0751182 ,\n",
              "        1.0191703 ,  0.21080741, -0.2823949 , -0.7060192 , -0.0359013 ,\n",
              "       -0.3730039 , -0.4876035 ,  0.6723223 ,  1.3490379 , -0.9389222 ,\n",
              "       -0.10112047,  0.25091803, -0.69929403,  0.14166024, -0.59373134],\n",
              "      dtype=float32)"
            ]
          },
          "metadata": {},
          "execution_count": 21
        }
      ]
    },
    {
      "cell_type": "markdown",
      "metadata": {
        "id": "buOJk_X-bMxA",
        "tags": []
      },
      "source": [
        "# Linear regression example\n",
        "\n",
        "Now we do something (slightly) more interesting. We consider linear regression using PyTorch. We study the model\n",
        "\\begin{equation*}\n",
        "    y = \\theta_0 + \\theta_1 x + \\epsilon,\n",
        "\\end{equation*}\n",
        "where $\\epsilon$ represents the noise term.\n",
        "\n",
        "We generate training data $\\{x_i, y_i\\}_{i=1}^N$ with $N = 100$ data points from the model with the true parameters $\\boldsymbol{\\theta} = \\begin{bmatrix} \\theta_0 & \\theta_1\\end{bmatrix}^\\intercal = \\begin{bmatrix} 0.3 & 0.1 \\end{bmatrix}^\\intercal$ and normally distributed noise $\\epsilon \\sim \\mathcal{N}(0, 0.01^2)$. The inputs $x_i$ are sampled uniformly from the interval $[0,1]$."
      ]
    },
    {
      "cell_type": "code",
      "metadata": {
        "id": "JD0sMA4zbMxB",
        "tags": []
      },
      "source": [
        "theta_true = [0.3, 0.1]\n",
        "N = 100\n",
        "\n",
        "np.random.seed(1234)\n",
        "xt = np.random.uniform(size=N)\n",
        "yt = theta_true[0] + theta_true[1] * xt + 0.01 * np.random.randn(N)"
      ],
      "execution_count": null,
      "outputs": []
    },
    {
      "cell_type": "markdown",
      "metadata": {
        "id": "rUUhoKhwbMxG",
        "tags": []
      },
      "source": [
        "We plot the data to see what it looks like."
      ]
    },
    {
      "cell_type": "code",
      "metadata": {
        "id": "OLRAfKcObMxH",
        "tags": [],
        "colab": {
          "base_uri": "https://localhost:8080/",
          "height": 265
        },
        "outputId": "b9b55411-69ba-4d65-d92d-03f1f3212ad9"
      },
      "source": [
        "import matplotlib\n",
        "import matplotlib.pyplot as plt\n",
        "\n",
        "plt.scatter(xt, yt, label='data')\n",
        "plt.plot([0, 1], [theta_true[0], theta_true[0] + theta_true[1]], 'k--', label='true model')\n",
        "plt.legend()\n",
        "plt.show()"
      ],
      "execution_count": null,
      "outputs": [
        {
          "output_type": "display_data",
          "data": {
            "image/png": "[encoded data removed]",
            "text/plain": [
              "<Figure size 432x288 with 1 Axes>"
            ]
          },
          "metadata": {
            "needs_background": "light"
          }
        }
      ]
    },
    {
      "cell_type": "markdown",
      "metadata": {
        "id": "fIilymh9p4oK",
        "tags": []
      },
      "source": [
        "We want to estimate the parameters $\\boldsymbol{\\theta} = \\begin{bmatrix} \\theta_0 & \\theta_1\\end{bmatrix}^\\intercal$ of the linear regression model based on the training data $\\{x_i,y_i\\}_{i=1}^N$. The training data statistics can be written as\n",
        "\\begin{equation*}\n",
        "  \\mathbf{y} = \\mathbf{X} \\boldsymbol{\\theta} + \\boldsymbol{\\epsilon}, \\qquad \\mathbf{y}= \\begin{bmatrix} y_1 \\\\ \\vdots \\\\ y_N \\end{bmatrix}, \\qquad \\mathbf{X} = \\begin{bmatrix} 1 & x_1 \\\\ \\vdots & \\vdots \\\\ 1 & x_N \\end{bmatrix}, \\qquad \\boldsymbol{\\theta} = \\begin{bmatrix} \\theta_0 \\\\ \\theta_1 \\end{bmatrix},\n",
        "\\end{equation*}\n",
        "where $\\boldsymbol{\\epsilon}$ is a vector with the noise realizations. This formulation also adheres to the common convention in PyTorch that expects data to be multi-dimensional with each row representing a data sample. Hence we even reshape the vector of outputs to a matrix with one column by using `view(-1, 1)`."
      ]
    },
    {
      "cell_type": "code",
      "metadata": {
        "id": "dJvA1fEQs8b_",
        "tags": []
      },
      "source": [
        "# build the data matrices\n",
        "X = torch.stack([torch.ones(N), torch.from_numpy(xt).float()], dim = 1)\n",
        "Y = torch.from_numpy(yt).float().view(-1, 1)"
      ],
      "execution_count": null,
      "outputs": []
    },
    {
      "cell_type": "code",
      "metadata": {
        "colab": {
          "base_uri": "https://localhost:8080/"
        },
        "id": "nAUPcwf7I11p",
        "outputId": "562e3427-390d-46ab-af45-6191dfffbca8"
      },
      "source": [
        "a = np.random.rand(5)\n",
        "b = torch.from_numpy(a).float()\n",
        "b.view(-1, 1)"
      ],
      "execution_count": null,
      "outputs": [
        {
          "output_type": "execute_result",
          "data": {
            "text/plain": [
              "tensor([[0.0420],\n",
              "        [0.1418],\n",
              "        [0.5982],\n",
              "        [0.1065],\n",
              "        [0.2972]])"
            ]
          },
          "metadata": {},
          "execution_count": 29
        }
      ]
    },
    {
      "cell_type": "markdown",
      "metadata": {
        "id": "825xo6yKGzf1",
        "tags": []
      },
      "source": [
        "We also need to create a tensor for $\\boldsymbol{\\theta}$, which will be updated iteratively during the learning process. We initialize it with the constant  matrix $\\boldsymbol{\\theta} = \\begin{bmatrix} 1 & 1 \\end{bmatrix}^\\intercal$ and specify that we want to obtain the gradient of the (not yet defined) loss with respect to $\\boldsymbol{\\theta}$ during backpropagation."
      ]
    },
    {
      "cell_type": "code",
      "metadata": {
        "id": "b4Y0q6iYHLuQ",
        "tags": []
      },
      "source": [
        "# define the initial model parameters\n",
        "theta = torch.ones(2, 1, requires_grad = True)"
      ],
      "execution_count": null,
      "outputs": []
    },
    {
      "cell_type": "markdown",
      "metadata": {
        "id": "kIaUrrm6IAh_",
        "tags": []
      },
      "source": [
        "We proceed by implementing the mean squared error cost function $J(\\boldsymbol{\\theta})$, where\n",
        "\\begin{equation*}\n",
        "J(\\boldsymbol{\\theta}) = \\frac{1}{N} \\sum_{i=1}^N {(\\theta_0 + \\theta_1 x_i − y_i)}^2 = \\frac{1}{n} {\\|\\mathbf{X} \\boldsymbol{\\theta} − \\mathbf{y} \\|}^2_2.\n",
        "\\end{equation*}\n",
        "We multiply the input $\\mathbf{X}$ with the variable $\\boldsymbol{\\theta}$ using `mm` for matrix multiplication. We then subtract the corresponding outputs, take the square, and finally average over all data samples."
      ]
    },
    {
      "cell_type": "code",
      "metadata": {
        "id": "GL_kqJTtJfhS",
        "tags": []
      },
      "source": [
        "# evaluate the mean squared error for the current parameters\n",
        "loss = (X.mm(theta) - Y).pow(2).mean()"
      ],
      "execution_count": null,
      "outputs": []
    },
    {
      "cell_type": "markdown",
      "metadata": {
        "id": "4sMWBSBBK-J6",
        "tags": []
      },
      "source": [
        "We perform the optimization iteratively with gradient descent. This means that in every optimization step we update the parameter $\\boldsymbol{\\theta}$ by going in the opposite direction of the gradient of the cost function with a certain step length $\\gamma$, i.e., we compute $\\boldsymbol{\\theta} := \\boldsymbol{\\theta} - \\gamma \\nabla J(\\boldsymbol{\\theta})$. In this example we choose $\\gamma = 0.1$. In PyTorch the update step can be implemented as"
      ]
    },
    {
      "cell_type": "code",
      "metadata": {
        "id": "QGAsamm1LrF0",
        "tags": []
      },
      "source": [
        "# perform backpropagation\n",
        "loss.backward()\n",
        "\n",
        "# perform a gradient descent step\n",
        "with torch.no_grad():\n",
        "    theta -= 0.1 * theta.grad"
      ],
      "execution_count": null,
      "outputs": []
    },
    {
      "cell_type": "markdown",
      "metadata": {
        "id": "LvcYU2ATbMxL",
        "tags": []
      },
      "source": [
        "Before we continue with the next optimization step, we have to reset the gradient to zero.\n"
      ]
    },
    {
      "cell_type": "code",
      "metadata": {
        "id": "xJWXRL9HNIOE",
        "tags": [],
        "colab": {
          "base_uri": "https://localhost:8080/"
        },
        "outputId": "52d58d8e-9865-42fd-a76f-c62b05524ab6"
      },
      "source": [
        "# reset the gradient information\n",
        "theta.grad.zero_()"
      ],
      "execution_count": null,
      "outputs": [
        {
          "output_type": "execute_result",
          "data": {
            "text/plain": [
              "tensor([[0.],\n",
              "        [0.]])"
            ]
          },
          "metadata": {},
          "execution_count": 34
        }
      ]
    },
    {
      "cell_type": "markdown",
      "metadata": {
        "id": "xGxdwMU9NEq3",
        "tags": []
      },
      "source": [
        "The training step described above can now be repeated multiple times in a `for` loop. As an additional feature we create an illustration of the loss during the course of the optimization procedure. "
      ]
    },
    {
      "cell_type": "code",
      "metadata": {
        "id": "BPOPNi14bMxN",
        "tags": [],
        "colab": {
          "base_uri": "https://localhost:8080/",
          "height": 466
        },
        "outputId": "f1fcb2a5-4dcc-4cb5-da74-f9eae9ca03ed"
      },
      "source": [
        "# define the initial model parameters\n",
        "theta = torch.ones(2, 1, requires_grad = True)\n",
        "\n",
        "# track the training loss\n",
        "training_loss = []\n",
        "\n",
        "# in multiple iterations\n",
        "for i in range(1000):\n",
        "    # evaluate the mean squared error for the current parameters\n",
        "    loss = (X.mm(theta) - Y).pow(2).mean()\n",
        "    \n",
        "    # update the statistic and print loss\n",
        "    training_loss.append(loss.item())\n",
        "    if i == 0 or (i + 1) % 100 == 0:\n",
        "      print(f\"Epoch {i + 1:4d}: training loss {training_loss[-1]: 9.6f}\")\n",
        "    \n",
        "    # perform backpropagation\n",
        "    loss.backward()\n",
        "\n",
        "    # perform a gradient descent step\n",
        "    with torch.no_grad():\n",
        "        theta -= 0.1 * theta.grad\n",
        "        \n",
        "        # reset the gradient information\n",
        "        theta.grad.zero_()\n",
        "\n",
        "plt.figure()\n",
        "plt.plot(np.arange(1, len(training_loss) + 1), training_loss, 'o', label='training loss')\n",
        "plt.yscale('log')\n",
        "plt.xlabel('number of iterations')\n",
        "plt.legend()\n",
        "plt.show()"
      ],
      "execution_count": null,
      "outputs": [
        {
          "output_type": "stream",
          "name": "stdout",
          "text": [
            "Epoch    1: training loss  1.422702\n",
            "Epoch  100: training loss  0.001226\n",
            "Epoch  200: training loss  0.000196\n",
            "Epoch  300: training loss  0.000102\n",
            "Epoch  400: training loss  0.000094\n",
            "Epoch  500: training loss  0.000093\n",
            "Epoch  600: training loss  0.000093\n",
            "Epoch  700: training loss  0.000093\n",
            "Epoch  800: training loss  0.000093\n",
            "Epoch  900: training loss  0.000093\n",
            "Epoch 1000: training loss  0.000093\n"
          ]
        },
        {
          "output_type": "display_data",
          "data": {
            "image/png": "[encoded data removed]",
            "text/plain": [
              "<Figure size 432x288 with 1 Axes>"
            ]
          },
          "metadata": {
            "needs_background": "light"
          }
        }
      ]
    },
    {
      "cell_type": "code",
      "metadata": {
        "colab": {
          "base_uri": "https://localhost:8080/"
        },
        "id": "iq8iRUnMMB0u",
        "outputId": "6644f4b9-99bf-4e93-f76f-fcc2875b6608"
      },
      "source": [
        "print(theta)\n",
        "print(theta_true)"
      ],
      "execution_count": null,
      "outputs": [
        {
          "output_type": "stream",
          "name": "stdout",
          "text": [
            "tensor([[0.3008],\n",
            "        [0.0988]], requires_grad=True)\n",
            "[0.3, 0.1]\n"
          ]
        }
      ]
    },
    {
      "cell_type": "markdown",
      "metadata": {
        "id": "yMz5Nrg9bMxQ",
        "tags": []
      },
      "source": [
        "We can check visually that the estimated model is actually close to the true model."
      ]
    },
    {
      "cell_type": "code",
      "metadata": {
        "id": "S6vJ5dw8bMxR",
        "tags": [],
        "colab": {
          "base_uri": "https://localhost:8080/",
          "height": 265
        },
        "outputId": "71fdc7f0-69a9-426e-f1e5-04379adea79a"
      },
      "source": [
        "# we have to detach from the graph since otherwise the automatic conversion\n",
        "# to a numpy array performed by matplotlib will error\n",
        "theta_numpy = theta.detach().numpy()\n",
        "\n",
        "plt.scatter(xt, yt, label = 'data')\n",
        "plt.plot([0, 1], [theta_true[0], theta_true[0] + theta_true[1]], 'k--', label = 'true model')\n",
        "plt.plot([0, 1], [theta_numpy[0], theta_numpy[0] + theta_numpy[1]], 'r-', label = 'estimated model')\n",
        "plt.legend()\n",
        "plt.show()"
      ],
      "execution_count": null,
      "outputs": [
        {
          "output_type": "display_data",
          "data": {
            "image/png": "[encoded data removed]",
            "text/plain": [
              "<Figure size 432x288 with 1 Axes>"
            ]
          },
          "metadata": {
            "needs_background": "light"
          }
        }
      ]
    },
    {
      "cell_type": "markdown",
      "metadata": {
        "id": "yGZu48hnbMxV",
        "tags": []
      },
      "source": [
        "The optimization of model parameters is a very common task in machine learning. PyTorch provides a [library of different optimization algorithms](https://pytorch.org/docs/stable/optim.html) which simplify this procedure, in particular for models with many parameters. The following code snippet defines an `optimizer` that can be used to optimize the parameters `theta` by regular gradient descent with a learning rate of `0.1`."
      ]
    },
    {
      "cell_type": "code",
      "metadata": {
        "id": "tj3VrUZK0M-E",
        "tags": []
      },
      "source": [
        "import torch.optim as optim\n",
        "\n",
        "# define the initial model parameters\n",
        "theta = torch.ones(2, 1, requires_grad = True)\n",
        "\n",
        "# define the optimizer\n",
        "optimizer = optim.SGD([theta], lr=0.1)"
      ],
      "execution_count": null,
      "outputs": []
    },
    {
      "cell_type": "markdown",
      "metadata": {
        "id": "4EmGKUIl09VV",
        "tags": []
      },
      "source": [
        "After we have computed the gradients for the model parameters that we want to optimize, `optimizer.step()` performs one gradient descent step. The gradients of all optimized parameters can be set to zero by running `optimizer.zero_grad()`.\n",
        "\n",
        "Taken together, the training of `theta` reduces to the following procedure."
      ]
    },
    {
      "cell_type": "code",
      "metadata": {
        "id": "y5Eqd5yAbMxW",
        "tags": [],
        "colab": {
          "base_uri": "https://localhost:8080/",
          "height": 466
        },
        "outputId": "390c384b-6452-45f7-d242-22b476796fea"
      },
      "source": [
        "# define the initial model parameters\n",
        "theta = torch.ones(2, 1, requires_grad = True)\n",
        "\n",
        "# define the optimizer\n",
        "optimizer = optim.SGD([theta], lr=0.1)\n",
        "\n",
        "# track the training loss\n",
        "training_loss = []\n",
        "\n",
        "# in multiple iterations\n",
        "for i in range(1000):\n",
        "    # evaluate the mean squared error for the current parameters\n",
        "    loss = (X.mm(theta) - Y).pow(2).mean()\n",
        "    \n",
        "    # update the statistic and print loss\n",
        "    training_loss.append(loss.item())\n",
        "    if i == 0 or (i + 1) % 100 == 0:\n",
        "      print(f\"Epoch {i + 1:4d}: training loss {training_loss[-1]: 9.6f}\")\n",
        "    \n",
        "    # perform backpropagation\n",
        "    loss.backward()\n",
        "\n",
        "    # perform a gradient descent step\n",
        "    optimizer.step()\n",
        "\n",
        "    # reset the gradient information\n",
        "    optimizer.zero_grad()\n",
        "    \n",
        "plt.figure()\n",
        "plt.plot(np.arange(1, len(training_loss) + 1), training_loss, 'o', label='training loss')\n",
        "plt.yscale('log')\n",
        "plt.xlabel('number of iterations')\n",
        "plt.legend()\n",
        "plt.show()"
      ],
      "execution_count": null,
      "outputs": [
        {
          "output_type": "stream",
          "name": "stdout",
          "text": [
            "Epoch    1: training loss  1.422702\n",
            "Epoch  100: training loss  0.001226\n",
            "Epoch  200: training loss  0.000196\n",
            "Epoch  300: training loss  0.000102\n",
            "Epoch  400: training loss  0.000094\n",
            "Epoch  500: training loss  0.000093\n",
            "Epoch  600: training loss  0.000093\n",
            "Epoch  700: training loss  0.000093\n",
            "Epoch  800: training loss  0.000093\n",
            "Epoch  900: training loss  0.000093\n",
            "Epoch 1000: training loss  0.000093\n"
          ]
        },
        {
          "output_type": "display_data",
          "data": {
            "image/png": "[encoded data removed]",
            "text/plain": [
              "<Figure size 432x288 with 1 Axes>"
            ]
          },
          "metadata": {
            "needs_background": "light"
          }
        }
      ]
    },
    {
      "cell_type": "markdown",
      "metadata": {
        "id": "Q2v09fjUbMxZ",
        "tags": []
      },
      "source": [
        "Again we inspect our estimated model visually."
      ]
    },
    {
      "cell_type": "code",
      "metadata": {
        "id": "p8A-te2HbMxb",
        "tags": [],
        "colab": {
          "base_uri": "https://localhost:8080/",
          "height": 265
        },
        "outputId": "8544ba61-54c8-4c29-9169-5e0abfae88e0"
      },
      "source": [
        "theta_numpy = theta.detach().numpy()\n",
        "\n",
        "plt.scatter(xt, yt, label = 'data')\n",
        "plt.plot([0, 1], [theta_true[0], theta_true[0] + theta_true[1]], 'k--', label = 'true model')\n",
        "plt.plot([0, 1], [theta_numpy[0], theta_numpy[0] + theta_numpy[1]], 'r-', label = 'estimated model')\n",
        "plt.legend()\n",
        "plt.show()"
      ],
      "execution_count": null,
      "outputs": [
        {
          "output_type": "display_data",
          "data": {
            "image/png": "[encoded data removed]",
            "text/plain": [
              "<Figure size 432x288 with 1 Axes>"
            ]
          },
          "metadata": {
            "needs_background": "light"
          }
        }
      ]
    },
    {
      "cell_type": "markdown",
      "metadata": {
        "id": "fnk7ZjTHbMxf",
        "tags": []
      },
      "source": [
        "Our regression model can be viewed as a neural network with only one linear layer. PyTorch already provides a [model of linear transformations](https://pytorch.org/docs/stable/nn.html#torch.nn.Linear) that by default also includes a bias term. The following code creates such a linear transformation for one-dimensional inputs and outputs."
      ]
    },
    {
      "cell_type": "code",
      "metadata": {
        "id": "j98bKgrPVodY",
        "tags": []
      },
      "source": [
        "import torch.nn as nn\n",
        "\n",
        "# define an affine transformation\n",
        "affine = nn.Linear(1, 1)"
      ],
      "execution_count": null,
      "outputs": []
    },
    {
      "cell_type": "markdown",
      "metadata": {
        "id": "83YDtvgrWVJQ",
        "tags": []
      },
      "source": [
        "We can extract the internal parameters of the linear layer."
      ]
    },
    {
      "cell_type": "code",
      "metadata": {
        "id": "tz01iKJgXcWg",
        "tags": [],
        "colab": {
          "base_uri": "https://localhost:8080/"
        },
        "outputId": "13d09b61-16ef-4390-dea1-5f140469d200"
      },
      "source": [
        "list(affine.parameters())"
      ],
      "execution_count": null,
      "outputs": [
        {
          "output_type": "execute_result",
          "data": {
            "text/plain": [
              "[Parameter containing:\n",
              " tensor([[0.7793]], requires_grad=True), Parameter containing:\n",
              " tensor([-0.2251], requires_grad=True)]"
            ]
          },
          "metadata": {},
          "execution_count": 43
        }
      ]
    },
    {
      "cell_type": "markdown",
      "metadata": {
        "id": "-C7abZucXxXp",
        "tags": []
      },
      "source": [
        "We see that by default gradients will be computed with respect to these parameters during backpropagation. Note that the parameters are randomly initialized and not set to 1.\n",
        "\n",
        "We can make the correspondence to $\\beta_0$ and $\\beta_1$ a bit clearer."
      ]
    },
    {
      "cell_type": "code",
      "metadata": {
        "id": "lyEs7SBvWYuX",
        "tags": [],
        "colab": {
          "base_uri": "https://localhost:8080/"
        },
        "outputId": "0fdc0844-9f7d-494b-be24-3eb25af189f4"
      },
      "source": [
        "theta0 = affine.bias.data\n",
        "theta1 = affine.weight.data\n",
        "print(f\"theta0: {theta0}\")\n",
        "print(f\"theta1: {theta1}\")"
      ],
      "execution_count": null,
      "outputs": [
        {
          "output_type": "stream",
          "name": "stdout",
          "text": [
            "theta0: tensor([-0.2251])\n",
            "theta1: tensor([[0.7793]])\n"
          ]
        }
      ]
    },
    {
      "cell_type": "markdown",
      "metadata": {
        "id": "FO6Gw_4JW2cd",
        "tags": []
      },
      "source": [
        "Conveniently, in contrast to our implementation above, PyTorch's linear layer does not require us to add a column of ones to our data matrix. Instead we can work with the given data directly, after converting it to a PyTorch tensor and reshaping it to a matrix with one column."
      ]
    },
    {
      "cell_type": "code",
      "metadata": {
        "id": "khBO5mM-Y_I4",
        "tags": [],
        "colab": {
          "base_uri": "https://localhost:8080/"
        },
        "outputId": "1e2ca7cf-e10d-4b9d-f946-65c11fd9d923"
      },
      "source": [
        "# build data matrix\n",
        "X = torch.from_numpy(xt).float().view(-1, 1)\n",
        "\n",
        "# apply the affine transformation to the data\n",
        "affine(X)"
      ],
      "execution_count": null,
      "outputs": [
        {
          "output_type": "execute_result",
          "data": {
            "text/plain": [
              "tensor([[-0.0759],\n",
              "        [ 0.2597],\n",
              "        [ 0.1160],\n",
              "        [ 0.3869],\n",
              "        [ 0.3827],\n",
              "        [-0.0127],\n",
              "        [-0.0097],\n",
              "        [ 0.3997],\n",
              "        [ 0.5215],\n",
              "        [ 0.4575],\n",
              "        [ 0.0537],\n",
              "        [ 0.1653],\n",
              "        [ 0.3075],\n",
              "        [ 0.3303],\n",
              "        [ 0.0634],\n",
              "        [ 0.2122],\n",
              "        [ 0.1669],\n",
              "        [-0.2144],\n",
              "        [ 0.3771],\n",
              "        [ 0.4627],\n",
              "        [ 0.0592],\n",
              "        [ 0.2544],\n",
              "        [-0.1664],\n",
              "        [ 0.0623],\n",
              "        [ 0.5020],\n",
              "        [ 0.2825],\n",
              "        [ 0.0844],\n",
              "        [ 0.3895],\n",
              "        [ 0.0218],\n",
              "        [ 0.2176],\n",
              "        [ 0.4521],\n",
              "        [ 0.1148],\n",
              "        [ 0.4000],\n",
              "        [-0.1131],\n",
              "        [ 0.3237],\n",
              "        [ 0.3239],\n",
              "        [-0.0546],\n",
              "        [ 0.4956],\n",
              "        [ 0.1194],\n",
              "        [ 0.4835],\n",
              "        [-0.1785],\n",
              "        [-0.0815],\n",
              "        [-0.1882],\n",
              "        [ 0.3008],\n",
              "        [ 0.2382],\n",
              "        [ 0.1905],\n",
              "        [-0.1914],\n",
              "        [ 0.2124],\n",
              "        [ 0.0318],\n",
              "        [ 0.1668],\n",
              "        [-0.1379],\n",
              "        [ 0.2480],\n",
              "        [ 0.2159],\n",
              "        [-0.2199],\n",
              "        [ 0.2560],\n",
              "        [ 0.4857],\n",
              "        [ 0.3909],\n",
              "        [ 0.5480],\n",
              "        [ 0.5220],\n",
              "        [ 0.3920],\n",
              "        [-0.0028],\n",
              "        [ 0.2618],\n",
              "        [ 0.1474],\n",
              "        [-0.0726],\n",
              "        [ 0.0728],\n",
              "        [-0.1831],\n",
              "        [ 0.1268],\n",
              "        [ 0.5401],\n",
              "        [-0.1285],\n",
              "        [-0.1321],\n",
              "        [ 0.3504],\n",
              "        [ 0.2325],\n",
              "        [ 0.1424],\n",
              "        [-0.1417],\n",
              "        [-0.0465],\n",
              "        [ 0.4762],\n",
              "        [ 0.0996],\n",
              "        [ 0.1924],\n",
              "        [-0.2203],\n",
              "        [ 0.0091],\n",
              "        [ 0.1153],\n",
              "        [ 0.2519],\n",
              "        [ 0.4904],\n",
              "        [ 0.2625],\n",
              "        [ 0.3250],\n",
              "        [-0.1084],\n",
              "        [ 0.3562],\n",
              "        [ 0.4224],\n",
              "        [ 0.2687],\n",
              "        [ 0.1164],\n",
              "        [-0.1062],\n",
              "        [ 0.2178],\n",
              "        [ 0.1865],\n",
              "        [ 0.5163],\n",
              "        [ 0.1492],\n",
              "        [ 0.1665],\n",
              "        [ 0.1932],\n",
              "        [ 0.4132],\n",
              "        [-0.1806],\n",
              "        [ 0.2965]], grad_fn=<AddmmBackward0>)"
            ]
          },
          "metadata": {},
          "execution_count": 45
        }
      ]
    },
    {
      "cell_type": "markdown",
      "metadata": {
        "id": "A4BKKgtdZX4P",
        "tags": []
      },
      "source": [
        "We can rewrite the training procedure using this linear layer."
      ]
    },
    {
      "cell_type": "code",
      "metadata": {
        "id": "xzG4f7S3bMxg",
        "tags": []
      },
      "source": [
        "# define the initial model parameters\n",
        "affine = nn.Linear(1, 1)\n",
        "\n",
        "# define the optimizer\n",
        "optimizer = optim.SGD(affine.parameters(), lr=0.1)\n",
        "\n",
        "# track the training loss\n",
        "training_loss = []\n",
        "\n",
        "# in multiple iterations\n",
        "for i in range(1000):\n",
        "    # evaluate the mean squared error for the current parameters\n",
        "    loss = (affine(X) - Y).pow(2).mean()\n",
        "        \n",
        "    # update the statistic and print loss\n",
        "    training_loss.append(loss.item())\n",
        "    if i == 0 or (i + 1) % 100 == 0:\n",
        "      print(f\"Epoch {i + 1:4d}: training loss {training_loss[-1]: 9.6f}\")\n",
        "    \n",
        "    # perform backpropagation\n",
        "    loss.backward()\n",
        "\n",
        "    # perform a gradient descent step\n",
        "    optimizer.step()\n",
        "\n",
        "    # reset the gradient information\n",
        "    optimizer.zero_grad()\n",
        "    \n",
        "plt.figure()\n",
        "plt.plot(np.arange(1, len(training_loss) + 1), training_loss, 'o', label='training loss')\n",
        "plt.yscale('log')\n",
        "plt.xlabel('number of iterations')\n",
        "plt.legend()\n",
        "plt.show()"
      ],
      "execution_count": null,
      "outputs": []
    },
    {
      "cell_type": "markdown",
      "metadata": {
        "id": "SbBvep-SAHAu",
        "tags": []
      },
      "source": [
        "Let us check again that we obtain a reasonably well-trained model."
      ]
    },
    {
      "cell_type": "code",
      "metadata": {
        "id": "qB3ujikOAPxn",
        "tags": []
      },
      "source": [
        "# extract theta0 and theta1 from the linear layer\n",
        "theta0 = affine.bias.detach().numpy()\n",
        "theta1 = affine.weight.detach().numpy()\n",
        "\n",
        "plt.scatter(xt, yt, label = 'data')\n",
        "plt.plot([0, 1], [theta_true[0], theta_true[0] + theta_true[1]], 'k--', label = 'true model')\n",
        "plt.plot([0, 1], [theta0, theta0 + theta1], 'r-', label = 'estimated model')\n",
        "plt.legend()\n",
        "plt.show()"
      ],
      "execution_count": null,
      "outputs": []
    },
    {
      "cell_type": "markdown",
      "metadata": {
        "id": "0TlmA6QeMM0g",
        "tags": []
      },
      "source": [
        "Note that we have performed linear regression by iteratively minimizing the mean squared error cost function instead of using the closed form solution given by the normal equations. This numerical approach can be used also with other models and cost functions to find the parameters, also in problems where no closed form solution is available."
      ]
    }
  ]
}